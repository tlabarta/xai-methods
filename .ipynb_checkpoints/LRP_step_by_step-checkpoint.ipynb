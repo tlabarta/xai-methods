{
 "cells": [
  {
   "cell_type": "code",
   "execution_count": 2,
   "metadata": {
    "ExecuteTime": {
     "end_time": "2023-08-07T18:39:28.222024Z",
     "start_time": "2023-08-07T18:39:28.179799Z"
    }
   },
   "outputs": [],
   "source": [
    "import numpy as np\n",
    "import pandas as pd"
   ]
  },
  {
   "cell_type": "markdown",
   "metadata": {},
   "source": [
    "## 0. Neural Network Setup"
   ]
  },
  {
   "cell_type": "markdown",
   "metadata": {},
   "source": [
    "This is a very simple step by step demonstration of Layer-wise relevance propagation (LRP). We start by defining a very simple Neural Network with 3 layers for a binary classification task (Is it class 1 or is it class 2?).\n",
    "\n",
    "1. Input Layer: Layer of the network with 3 neurons\n",
    "2. Hidden Layer: Layer with 3 neurons, ReLU activation function\n",
    "3. Output Layer: Layer with 1 neuron, Sigmoid Activation Function, returns probability p for class 1"
   ]
  },
  {
   "cell_type": "code",
   "execution_count": 3,
   "metadata": {
    "ExecuteTime": {
     "end_time": "2023-08-07T18:39:28.222747Z",
     "start_time": "2023-08-07T18:39:28.183957Z"
    }
   },
   "outputs": [],
   "source": [
    "w_hidden = np.asarray([[0.3, 0.2, 0.4],\n",
    "            [0.6, 0.1, 0.5],\n",
    "            [0.8, 0.6, 0.2]])\n",
    "\n",
    "w_output = np.asarray([[0.3],\n",
    "            [0.1],\n",
    "            [0.4]])\n",
    "\n",
    "b_hidden = np.asarray([0.5])\n",
    "\n",
    "b_output = np.asarray([0.1])\n",
    "\n",
    "input = np.asarray([[1.0], [0.8], [0.2]])\n",
    "\n",
    "def ReLU(Z):\n",
    "    A = np.maximum(0, Z)\n",
    "    return A\n",
    "\n",
    "def Sigmoid(Z):\n",
    "    A = 1 / (1 + np.exp(-Z))\n",
    "    return A\n"
   ]
  },
  {
   "cell_type": "markdown",
   "metadata": {},
   "source": [
    "![Initial State](step_by_step_img/initial.png)"
   ]
  },
  {
   "cell_type": "markdown",
   "metadata": {},
   "source": [
    "## 1. Forward Pass to calculate Relevance Score\n",
    "\n",
    "First step is a forward pass to calculate the Relevance score, which equals the activation of the output layer. Forward pass in neural networks is a dot-product of input values and "
   ]
  },
  {
   "cell_type": "code",
   "execution_count": 4,
   "metadata": {
    "ExecuteTime": {
     "end_time": "2023-08-07T18:39:28.222929Z",
     "start_time": "2023-08-07T18:39:28.189393Z"
    }
   },
   "outputs": [
    {
     "ename": "ValueError",
     "evalue": "shapes (3,1) and (3,3) not aligned: 1 (dim 1) != 3 (dim 0)",
     "output_type": "error",
     "traceback": [
      "\u001b[0;31m---------------------------------------------------------------------------\u001b[0m",
      "\u001b[0;31mValueError\u001b[0m                                Traceback (most recent call last)",
      "Cell \u001b[0;32mIn[4], line 1\u001b[0m\n\u001b[0;32m----> 1\u001b[0m input_hidden \u001b[38;5;241m=\u001b[39m \u001b[43mnp\u001b[49m\u001b[38;5;241;43m.\u001b[39;49m\u001b[43mdot\u001b[49m\u001b[43m(\u001b[49m\u001b[38;5;28;43minput\u001b[39;49m\u001b[43m,\u001b[49m\u001b[43m \u001b[49m\u001b[43mw_hidden\u001b[49m\u001b[43m)\u001b[49m \u001b[38;5;241m+\u001b[39m b_hidden\n\u001b[1;32m      2\u001b[0m \u001b[38;5;28mprint\u001b[39m(input_hidden)\n",
      "File \u001b[0;32m<__array_function__ internals>:200\u001b[0m, in \u001b[0;36mdot\u001b[0;34m(*args, **kwargs)\u001b[0m\n",
      "\u001b[0;31mValueError\u001b[0m: shapes (3,1) and (3,3) not aligned: 1 (dim 1) != 3 (dim 0)"
     ]
    }
   ],
   "source": [
    "input_hidden = np.dot(input, w_hidden) + b_hidden\n",
    "print(input_hidden)"
   ]
  },
  {
   "cell_type": "markdown",
   "metadata": {},
   "source": [
    "![Initial State](step_by_step_img/first_pass.png)\n"
   ]
  },
  {
   "cell_type": "code",
   "execution_count": 73,
   "metadata": {
    "ExecuteTime": {
     "end_time": "2023-08-07T18:39:28.223192Z",
     "start_time": "2023-08-07T18:39:28.197108Z"
    }
   },
   "outputs": [
    {
     "name": "stdout",
     "output_type": "stream",
     "text": [
      "[[1.04]\n",
      " [1.28]\n",
      " [1.82]]\n"
     ]
    }
   ],
   "source": [
    "output_hidden = ReLU(input_hidden)\n",
    "print(output_hidden)"
   ]
  },
  {
   "cell_type": "markdown",
   "metadata": {},
   "source": [
    "![Initial State](step_by_step_img/first_activation.png)"
   ]
  },
  {
   "cell_type": "code",
   "execution_count": 74,
   "metadata": {
    "ExecuteTime": {
     "end_time": "2023-08-07T18:39:28.223308Z",
     "start_time": "2023-08-07T18:39:28.201561Z"
    }
   },
   "outputs": [
    {
     "name": "stdout",
     "output_type": "stream",
     "text": [
      "[[1.268]]\n"
     ]
    }
   ],
   "source": [
    "input_output = np.dot(w_output.T, output_hidden) + b_output\n",
    "print(input_output)"
   ]
  },
  {
   "cell_type": "markdown",
   "metadata": {},
   "source": [
    "![Initial State](step_by_step_img/second_pass.png)"
   ]
  },
  {
   "cell_type": "code",
   "execution_count": 77,
   "metadata": {
    "ExecuteTime": {
     "end_time": "2023-08-07T18:54:32.320605Z",
     "start_time": "2023-08-07T18:54:32.308293Z"
    }
   },
   "outputs": [
    {
     "name": "stdout",
     "output_type": "stream",
     "text": [
      "[[0.78]]\n"
     ]
    }
   ],
   "source": [
    "output_output = Sigmoid(input_output)\n",
    "print(np.round(output_output, 2))"
   ]
  },
  {
   "cell_type": "markdown",
   "metadata": {},
   "source": [
    "![Initial State](step_by_step_img/forwardpass_output.png)"
   ]
  },
  {
   "cell_type": "markdown",
   "metadata": {},
   "source": [
    "The sigmoid activation returns a result of 0.78 for the first forward pass, which indicates a 78% probability for class 1."
   ]
  },
  {
   "cell_type": "markdown",
   "metadata": {},
   "source": [
    "## 2. Calculating Relevance scores"
   ]
  },
  {
   "cell_type": "code",
   "execution_count": 84,
   "metadata": {
    "ExecuteTime": {
     "end_time": "2023-08-07T18:58:05.209949Z",
     "start_time": "2023-08-07T18:58:05.206854Z"
    }
   },
   "outputs": [],
   "source": [
    "relevance = output_output\n",
    "activation_previous = output_hidden\n",
    "activation_sum = np.sum(activation_previous)\n"
   ]
  },
  {
   "cell_type": "code",
   "execution_count": 85,
   "metadata": {
    "ExecuteTime": {
     "end_time": "2023-08-07T18:58:05.662448Z",
     "start_time": "2023-08-07T18:58:05.659225Z"
    }
   },
   "outputs": [],
   "source": [
    "hidden_relevance = np.round(activation_previous * relevance / activation_sum,2)"
   ]
  },
  {
   "cell_type": "code",
   "execution_count": 145,
   "metadata": {
    "ExecuteTime": {
     "end_time": "2023-08-07T19:38:52.866425Z",
     "start_time": "2023-08-07T19:38:52.858770Z"
    }
   },
   "outputs": [
    {
     "name": "stdout",
     "output_type": "stream",
     "text": [
      "[[0.2 ]\n",
      " [0.24]\n",
      " [0.34]]\n"
     ]
    }
   ],
   "source": [
    "print(hidden_relevance)"
   ]
  },
  {
   "cell_type": "code",
   "execution_count": 117,
   "metadata": {
    "ExecuteTime": {
     "end_time": "2023-08-07T19:32:09.885096Z",
     "start_time": "2023-08-07T19:32:09.876539Z"
    }
   },
   "outputs": [],
   "source": [
    "relevance = hidden_relevance\n",
    "activation_previous = input\n",
    "activation_sum = np.sum(input)"
   ]
  },
  {
   "cell_type": "code",
   "execution_count": 133,
   "metadata": {
    "ExecuteTime": {
     "end_time": "2023-08-07T19:34:59.756379Z",
     "start_time": "2023-08-07T19:34:59.746351Z"
    }
   },
   "outputs": [],
   "source": [
    "input_relevance = []\n",
    "for i in range(len(activation_previous)):\n",
    "    input_relevance.append(sum(np.round(relevance * activation_previous[i]  / activation_sum,2)))\n",
    "\n",
    "input_relevance = np.asarray(input_relevance)"
   ]
  },
  {
   "cell_type": "code",
   "execution_count": 146,
   "metadata": {
    "ExecuteTime": {
     "end_time": "2023-08-07T19:39:01.770672Z",
     "start_time": "2023-08-07T19:39:01.764533Z"
    }
   },
   "outputs": [
    {
     "name": "stdout",
     "output_type": "stream",
     "text": [
      "[[0.39]\n",
      " [0.32]\n",
      " [0.07]]\n"
     ]
    }
   ],
   "source": [
    "print(input_relevance)"
   ]
  },
  {
   "cell_type": "code",
   "execution_count": null,
   "metadata": {},
   "outputs": [],
   "source": []
  }
 ],
 "metadata": {
  "kernelspec": {
   "display_name": "Python 3 (ipykernel)",
   "language": "python",
   "name": "python3"
  },
  "language_info": {
   "codemirror_mode": {
    "name": "ipython",
    "version": 3
   },
   "file_extension": ".py",
   "mimetype": "text/x-python",
   "name": "python",
   "nbconvert_exporter": "python",
   "pygments_lexer": "ipython3",
   "version": "3.9.16"
  }
 },
 "nbformat": 4,
 "nbformat_minor": 1
}
